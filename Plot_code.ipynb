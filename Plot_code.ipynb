{
 "cells": [
  {
   "cell_type": "markdown",
   "metadata": {},
   "source": [
    "### Linear Plot code"
   ]
  },
  {
   "cell_type": "code",
   "execution_count": null,
   "metadata": {},
   "outputs": [],
   "source": [
    "color_hebbian = \"#9b5de5\"      # violet-purple\n",
    "color_more_neurons = \"#f15bb5\" # hot pink\n",
    "color_non_binary = \"#00bbf9\"   # cyan\n",
    "\n",
    "# --- Create figure with subplots ---\n",
    "fig, axes = plt.subplots(2, 2, figsize=(10, 8))\n",
    "axes = axes.flatten()  # make it easy to index as a 1D array\n",
    "\n",
    "# --- Plot 1: Base model ---\n",
    "axes[0].plot(train_counts, results_hebbian, 'o-', color=color_hebbian)\n",
    "axes[0].set_title(\"Base Hebbian model\")\n",
    "axes[0].set_xlabel(\"Training images\")\n",
    "axes[0].set_ylabel(\"Accuracy\")\n",
    "axes[0].set_ylim(0, 1)\n",
    "axes[0].grid(True)\n",
    "\n",
    "# --- Plot 2: More neurons model ---\n",
    "axes[1].plot(train_counts, results_more_neurons, 's-', color=color_more_neurons)\n",
    "axes[1].set_title(\"More neurons model\")\n",
    "axes[1].set_xlabel(\"Training images\")\n",
    "axes[1].set_ylabel(\"Accuracy\")\n",
    "axes[1].set_ylim(0, 1)\n",
    "axes[1].grid(True)\n",
    "\n",
    "# --- Plot 3: Non-binary model ---\n",
    "axes[2].plot(train_counts, results_non_binary, '^-', color=color_non_binary)\n",
    "axes[2].set_title(\"Non-binary model\")\n",
    "axes[2].set_xlabel(\"Training images\")\n",
    "axes[2].set_ylabel(\"Accuracy\")\n",
    "axes[2].set_ylim(0, 1)\n",
    "axes[2].grid(True)\n",
    "\n",
    "# --- Plot 4: Combined comparison ---\n",
    "axes[3].plot(train_counts, results_hebbian, 'o-', color=color_hebbian, label='Base model')\n",
    "axes[3].plot(train_counts, results_more_neurons, 's-', color=color_more_neurons, label='More neurons')\n",
    "axes[3].plot(train_counts, results_non_binary, '^-',  color=color_non_binary, label='Non-binary')\n",
    "axes[3].set_title(\"All models compared\")\n",
    "axes[3].set_xlabel(\"Training images\")\n",
    "axes[3].set_ylabel(\"Accuracy\")\n",
    "axes[3].set_ylim(0, 1)\n",
    "axes[3].legend()\n",
    "axes[3].grid(True)\n",
    "\n",
    "plt.tight_layout()\n",
    "plt.show()\n"
   ]
  },
  {
   "cell_type": "markdown",
   "metadata": {},
   "source": [
    "### Confusion Matrix Plots"
   ]
  },
  {
   "cell_type": "code",
   "execution_count": null,
   "metadata": {},
   "outputs": [],
   "source": [
    "models = {\n",
    "    \"Base Hebbian\": {\n",
    "        \"results\": results_hebbian,\n",
    "        \"confs\": confs_hebbian,\n",
    "        \"color\": \"Purples\"\n",
    "    },\n",
    "    \"More neurons\": {\n",
    "        \"results\": results_more_neurons,\n",
    "        \"confs\": confs_more_neurons,\n",
    "        \"color\": plt.cm.RdPu\n",
    "    },\n",
    "    \"Non-binary\": {\n",
    "        \"results\": results_non_binary,\n",
    "        \"confs\": confs_non_binary,\n",
    "        \"color\": \"Blues\"\n",
    "    }\n",
    "}\n",
    "\n",
    "# Plotting the confusion matrices\n",
    "for model_name, model_data in models.items():\n",
    "    conf_matrices = model_data[\"confs\"]\n",
    "    color = model_data[\"color\"]\n",
    "\n",
    "    num_plots = len(conf_matrices)\n",
    "    cols = 3\n",
    "    rows = int(np.ceil(num_plots / cols))\n",
    "\n",
    "    plt.figure(figsize=(5 * cols, 5 * rows))\n",
    "\n",
    "    for i, (cm, n_train) in enumerate(zip(conf_matrices, train_counts)):\n",
    "        ax = plt.subplot(rows, cols, i + 1)\n",
    "        disp = ConfusionMatrixDisplay(confusion_matrix=cm, display_labels=['dog', 'cat'])\n",
    "        disp.plot(cmap=color, values_format='d', ax=ax, colorbar=False)\n",
    "        ax.set_title(f\"{n_train} training images\")\n",
    "\n",
    "    plt.suptitle(f\"{model_name}: Confusion Matrices Across Training Levels\", fontsize=18)\n",
    "    plt.tight_layout(rect=[0, 0, 1, 0.96])\n",
    "    plt.show()"
   ]
  }
 ],
 "metadata": {
  "kernelspec": {
   "display_name": "Python 3",
   "language": "python",
   "name": "python3"
  },
  "language_info": {
   "codemirror_mode": {
    "name": "ipython",
    "version": 3
   },
   "file_extension": ".py",
   "mimetype": "text/x-python",
   "name": "python",
   "nbconvert_exporter": "python",
   "pygments_lexer": "ipython3",
   "version": "3.12.12"
  }
 },
 "nbformat": 4,
 "nbformat_minor": 2
}
